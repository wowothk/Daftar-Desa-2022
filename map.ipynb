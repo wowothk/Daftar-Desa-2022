{
 "cells": [
  {
   "cell_type": "code",
   "execution_count": 8,
   "metadata": {},
   "outputs": [],
   "source": [
    "import json\n",
    "import pandas as pd\n",
    "import geopandas"
   ]
  },
  {
   "cell_type": "code",
   "execution_count": 13,
   "metadata": {},
   "outputs": [],
   "source": [
    "# geo = geopandas.read_file(\"indonesia_villages_border.geojson\")\n",
    "\n",
    "data = json.load(open(\"indonesia_villages_border.geojson\"))\n"
   ]
  },
  {
   "cell_type": "code",
   "execution_count": 15,
   "metadata": {},
   "outputs": [],
   "source": [
    "df = pd.DataFrame(data)"
   ]
  },
  {
   "cell_type": "code",
   "execution_count": 17,
   "metadata": {},
   "outputs": [],
   "source": [
    "desa_with_id = pd.read_csv(\"data_desa_indonesia.csv\")"
   ]
  },
  {
   "cell_type": "code",
   "execution_count": 18,
   "metadata": {},
   "outputs": [],
   "source": [
    "all = pd.merge(df, desa_with_id, how=\"inner\", left_on=\"village\", right_on=\"namaKel\")"
   ]
  },
  {
   "cell_type": "code",
   "execution_count": 20,
   "metadata": {},
   "outputs": [],
   "source": [
    "all =  all[[\"idKel\", \"namaKel\", \"idKec\", \"namaKec\", \"idKab\", \"namaKab\", \"idProv\", \"namaProv\", \"border\"]]"
   ]
  },
  {
   "cell_type": "code",
   "execution_count": 22,
   "metadata": {},
   "outputs": [],
   "source": [
    "all.to_csv(\"data_desa_with_loc.csv\", index=False)"
   ]
  },
  {
   "cell_type": "code",
   "execution_count": 30,
   "metadata": {},
   "outputs": [],
   "source": [
    "test = all.loc[0][\"border\"]\n",
    "\n",
    "## converter schema to geojson\n",
    "geo = {\n",
    "    \"type\": \"FeatureCollection\",\n",
    "    \"features\": [{\n",
    "        'type':'Feature',\n",
    "        'properties':{},\n",
    "        'geometry':{\n",
    "        'type':'MultiPolygon',\n",
    "        'coordinates': [[test]]}\n",
    "    }]\n",
    "}"
   ]
  },
  {
   "cell_type": "code",
   "execution_count": 31,
   "metadata": {},
   "outputs": [
    {
     "data": {
      "text/plain": [
       "{'type': 'FeatureCollection',\n",
       " 'features': [{'type': 'Feature',\n",
       "   'properties': {},\n",
       "   'geometry': {'type': 'MultiPolygon',\n",
       "    'coordinates': [[[[97.4767, 2.9355],\n",
       "       [97.4748, 2.9361],\n",
       "       [97.471, 2.9373],\n",
       "       [97.4657, 2.939],\n",
       "       [97.4616, 2.9403],\n",
       "       [97.4616, 2.9402],\n",
       "       [97.4576, 2.9323],\n",
       "       [97.4568, 2.9306],\n",
       "       [97.4547, 2.9264],\n",
       "       [97.453, 2.9231],\n",
       "       [97.4569, 2.9234],\n",
       "       [97.4627, 2.9231],\n",
       "       [97.4632, 2.9231],\n",
       "       [97.467, 2.9227],\n",
       "       [97.4728, 2.9222],\n",
       "       [97.4735, 2.9221],\n",
       "       [97.4774, 2.9216],\n",
       "       [97.4821, 2.9215],\n",
       "       [97.4867, 2.9202],\n",
       "       [97.4874, 2.9198],\n",
       "       [97.4878, 2.9221],\n",
       "       [97.4885, 2.9231],\n",
       "       [97.4881, 2.9246],\n",
       "       [97.4886, 2.9273],\n",
       "       [97.4888, 2.9282],\n",
       "       [97.4879, 2.9291],\n",
       "       [97.4887, 2.9294],\n",
       "       [97.4896, 2.93],\n",
       "       [97.4888, 2.9315],\n",
       "       [97.4887, 2.9317],\n",
       "       [97.484, 2.9328],\n",
       "       [97.4835, 2.9333],\n",
       "       [97.4767, 2.9355]]]]}}]}"
      ]
     },
     "execution_count": 31,
     "metadata": {},
     "output_type": "execute_result"
    }
   ],
   "source": [
    "geo"
   ]
  },
  {
   "cell_type": "code",
   "execution_count": null,
   "metadata": {},
   "outputs": [],
   "source": []
  }
 ],
 "metadata": {
  "interpreter": {
   "hash": "7e1998ff7f8aa20ada591c520b972326324e5ea05489af9e422744c7c09f6dad"
  },
  "kernelspec": {
   "display_name": "Python 3.10.1 64-bit",
   "language": "python",
   "name": "python3"
  },
  "language_info": {
   "codemirror_mode": {
    "name": "ipython",
    "version": 3
   },
   "file_extension": ".py",
   "mimetype": "text/x-python",
   "name": "python",
   "nbconvert_exporter": "python",
   "pygments_lexer": "ipython3",
   "version": "3.10.1"
  },
  "orig_nbformat": 4
 },
 "nbformat": 4,
 "nbformat_minor": 2
}
