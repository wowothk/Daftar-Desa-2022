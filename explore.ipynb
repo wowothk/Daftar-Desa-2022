{
 "cells": [
  {
   "cell_type": "code",
   "execution_count": 1,
   "metadata": {},
   "outputs": [],
   "source": [
    "import requests"
   ]
  },
  {
   "cell_type": "code",
   "execution_count": 2,
   "metadata": {},
   "outputs": [],
   "source": [
    "prov = requests.get(\"https://sdgsdev.kemendesa.go.id/SIDcutoff/prov\")"
   ]
  },
  {
   "cell_type": "code",
   "execution_count": 11,
   "metadata": {},
   "outputs": [],
   "source": [
    "import json\n",
    "\n",
    "with open(\"provinsi.json\", \"w\") as x:\n",
    "    x.write(json.dumps(prov.json(), indent=3))\n"
   ]
  },
  {
   "cell_type": "code",
   "execution_count": 14,
   "metadata": {},
   "outputs": [],
   "source": [
    "# read json\n",
    "import pandas as pd\n",
    "data = json.load(open(\"provinsi.json\"))\n",
    "prov = pd.DataFrame(data['data'])"
   ]
  },
  {
   "cell_type": "code",
   "execution_count": 33,
   "metadata": {},
   "outputs": [],
   "source": [
    "def get_kabupaten(prov: pd.DataFrame):\n",
    "    lenPr = prov[\"id\"].tolist()\n",
    "    kab = []\n",
    "    for i in lenPr:\n",
    "        data_kab = requests.get(\"https://sdgsdev.kemendesa.go.id/SIDcutoff/kota/{}\".format(i)).json()[\"data\"]\n",
    "        for j in data_kab:\n",
    "            j[\"idProv\"] = i\n",
    "            kab.append(j)\n",
    "    return kab\n",
    "        \n"
   ]
  },
  {
   "cell_type": "code",
   "execution_count": 34,
   "metadata": {},
   "outputs": [],
   "source": [
    "kab=get_kabupaten(prov)\n",
    "with open(\"kabupaten.json\", \"w\") as x:\n",
    "    x.write(json.dumps(kab, indent=3))\n",
    "\n"
   ]
  },
  {
   "cell_type": "code",
   "execution_count": 37,
   "metadata": {},
   "outputs": [
    {
     "data": {
      "text/html": [
       "<div>\n",
       "<style scoped>\n",
       "    .dataframe tbody tr th:only-of-type {\n",
       "        vertical-align: middle;\n",
       "    }\n",
       "\n",
       "    .dataframe tbody tr th {\n",
       "        vertical-align: top;\n",
       "    }\n",
       "\n",
       "    .dataframe thead th {\n",
       "        text-align: right;\n",
       "    }\n",
       "</style>\n",
       "<table border=\"1\" class=\"dataframe\">\n",
       "  <thead>\n",
       "    <tr style=\"text-align: right;\">\n",
       "      <th></th>\n",
       "      <th>id</th>\n",
       "      <th>value</th>\n",
       "      <th>idProv</th>\n",
       "    </tr>\n",
       "  </thead>\n",
       "  <tbody>\n",
       "    <tr>\n",
       "      <th>0</th>\n",
       "      <td>1103</td>\n",
       "      <td>KAB. ACEH SELATAN</td>\n",
       "      <td>11</td>\n",
       "    </tr>\n",
       "    <tr>\n",
       "      <th>1</th>\n",
       "      <td>1104</td>\n",
       "      <td>KAB. ACEH TENGGARA</td>\n",
       "      <td>11</td>\n",
       "    </tr>\n",
       "    <tr>\n",
       "      <th>2</th>\n",
       "      <td>1105</td>\n",
       "      <td>KAB. ACEH TIMUR</td>\n",
       "      <td>11</td>\n",
       "    </tr>\n",
       "    <tr>\n",
       "      <th>3</th>\n",
       "      <td>1106</td>\n",
       "      <td>KAB. ACEH TENGAH</td>\n",
       "      <td>11</td>\n",
       "    </tr>\n",
       "    <tr>\n",
       "      <th>4</th>\n",
       "      <td>1107</td>\n",
       "      <td>KAB. ACEH BARAT</td>\n",
       "      <td>11</td>\n",
       "    </tr>\n",
       "  </tbody>\n",
       "</table>\n",
       "</div>"
      ],
      "text/plain": [
       "     id               value idProv\n",
       "0  1103   KAB. ACEH SELATAN     11\n",
       "1  1104  KAB. ACEH TENGGARA     11\n",
       "2  1105     KAB. ACEH TIMUR     11\n",
       "3  1106    KAB. ACEH TENGAH     11\n",
       "4  1107     KAB. ACEH BARAT     11"
      ]
     },
     "execution_count": 37,
     "metadata": {},
     "output_type": "execute_result"
    }
   ],
   "source": [
    "kab = json.load(open(\"kabupaten.json\"))\n",
    "kab = pd.DataFrame(kab)\n",
    "kab.head()"
   ]
  },
  {
   "cell_type": "code",
   "execution_count": 38,
   "metadata": {},
   "outputs": [],
   "source": [
    "def get_kecamatan(kab: pd.DataFrame):\n",
    "    lenKab = kab[\"id\"].tolist()\n",
    "    kec = []\n",
    "    for i in lenKab:\n",
    "        data_kec = requests.get(\"https://sdgsdev.kemendesa.go.id/SIDcutoff/kecamatan/{}\".format(i)).json()[\"data\"]\n",
    "        for j in data_kec:\n",
    "            j[\"idKab\"] = i\n",
    "            kec.append(j)\n",
    "    return kec\n",
    "        "
   ]
  },
  {
   "cell_type": "code",
   "execution_count": 39,
   "metadata": {},
   "outputs": [],
   "source": [
    "kec = get_kecamatan(kab)\n",
    "with open(\"kecamatan.json\", \"w\") as x:\n",
    "    x.write(json.dumps(kec, indent=3))"
   ]
  },
  {
   "cell_type": "code",
   "execution_count": 41,
   "metadata": {},
   "outputs": [],
   "source": [
    "kec =pd.DataFrame(kec)"
   ]
  },
  {
   "cell_type": "code",
   "execution_count": 42,
   "metadata": {},
   "outputs": [],
   "source": [
    "def get_kelurahan(kec: pd.DataFrame):\n",
    "    lenKec = kec[\"id\"].tolist()\n",
    "    kel = []\n",
    "    for i in lenKec:\n",
    "        data_kel = requests.get(\"https://sdgsdev.kemendesa.go.id/SIDcutoff/desa/{}\".format(i)).json()[\"data\"]\n",
    "        for j in data_kel:\n",
    "            j[\"idKec\"] = i\n",
    "            kel.append(j)\n",
    "    return kel"
   ]
  },
  {
   "cell_type": "code",
   "execution_count": 43,
   "metadata": {},
   "outputs": [],
   "source": [
    "kel = get_kelurahan(kec)\n",
    "with open(\"kelurahan.json\", \"w\") as x:\n",
    "    x.write(json.dumps(kel, indent=3))"
   ]
  },
  {
   "cell_type": "code",
   "execution_count": 46,
   "metadata": {},
   "outputs": [],
   "source": [
    "kel = pd.DataFrame(kel)"
   ]
  },
  {
   "cell_type": "code",
   "execution_count": 47,
   "metadata": {},
   "outputs": [],
   "source": [
    "test = pd.merge(kel, kec, how=\"inner\", left_on=\"idKec\", right_on=\"id\")"
   ]
  },
  {
   "cell_type": "code",
   "execution_count": 54,
   "metadata": {},
   "outputs": [],
   "source": [
    "df = pd.merge(test, kab, how=\"inner\", left_on=\"idKab\", right_on=\"id\")\n"
   ]
  },
  {
   "cell_type": "code",
   "execution_count": 56,
   "metadata": {},
   "outputs": [],
   "source": [
    "df.columns = [\"idKel\", \"namaKel\", \"idKec\", \"idKec2\", \"namaKec\", \"idKab\", \"idKab2\", \"namaKab\", \"idProv\"]"
   ]
  },
  {
   "cell_type": "code",
   "execution_count": 58,
   "metadata": {},
   "outputs": [],
   "source": [
    "df = pd.merge(df, prov, how=\"inner\", left_on=\"idProv\", right_on=\"id\")"
   ]
  },
  {
   "cell_type": "code",
   "execution_count": 60,
   "metadata": {},
   "outputs": [],
   "source": [
    "df = df[[\"idKel\", \"namaKel\", \"idKec\", \"namaKec\", \"idKab\", \"namaKab\", \"idProv\", \"value\"]]"
   ]
  },
  {
   "cell_type": "code",
   "execution_count": 63,
   "metadata": {},
   "outputs": [],
   "source": [
    "df.columns = [\"idKel\", \"namaKel\", \"idKec\", \"namaKec\", \"idKab\", \"namaKab\", \"idProv\", \"namaProv\"]"
   ]
  },
  {
   "cell_type": "code",
   "execution_count": 65,
   "metadata": {},
   "outputs": [],
   "source": [
    "df.to_csv(\"data_desa_indonesia.csv\", index=False)"
   ]
  },
  {
   "cell_type": "code",
   "execution_count": null,
   "metadata": {},
   "outputs": [],
   "source": []
  }
 ],
 "metadata": {
  "interpreter": {
   "hash": "7e1998ff7f8aa20ada591c520b972326324e5ea05489af9e422744c7c09f6dad"
  },
  "kernelspec": {
   "display_name": "Python 3.10.1 64-bit",
   "language": "python",
   "name": "python3"
  },
  "language_info": {
   "codemirror_mode": {
    "name": "ipython",
    "version": 3
   },
   "file_extension": ".py",
   "mimetype": "text/x-python",
   "name": "python",
   "nbconvert_exporter": "python",
   "pygments_lexer": "ipython3",
   "version": "3.10.1"
  },
  "orig_nbformat": 4
 },
 "nbformat": 4,
 "nbformat_minor": 2
}
